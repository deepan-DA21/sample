{
  "nbformat": 4,
  "nbformat_minor": 0,
  "metadata": {
    "colab": {
      "provenance": [],
      "authorship_tag": "ABX9TyNLg8DlsKng77wFlKlkHZne",
      "include_colab_link": true
    },
    "kernelspec": {
      "name": "python3",
      "display_name": "Python 3"
    },
    "language_info": {
      "name": "python"
    }
  },
  "cells": [
    {
      "cell_type": "markdown",
      "metadata": {
        "id": "view-in-github",
        "colab_type": "text"
      },
      "source": [
        "<a href=\"https://colab.research.google.com/github/deepan-DA21/sample/blob/main/unsupervised.ipynb\" target=\"_parent\"><img src=\"https://colab.research.google.com/assets/colab-badge.svg\" alt=\"Open In Colab\"/></a>"
      ]
    },
    {
      "cell_type": "code",
      "execution_count": 5,
      "metadata": {
        "colab": {
          "base_uri": "https://localhost:8080/",
          "height": 653
        },
        "id": "I8iq69Vy5gHB",
        "outputId": "3e24cb71-fbaa-4dce-a0b1-815cb3d66657"
      },
      "outputs": [
        {
          "output_type": "stream",
          "name": "stdout",
          "text": [
            "Running Gradio in a Colab notebook requires sharing enabled. Automatically setting `share=True` (you can turn this off by setting `share=False` in `launch()` explicitly).\n",
            "\n",
            "Colab notebook detected. To show errors in colab notebook, set debug=True in launch()\n",
            "* Running on public URL: https://2cb388f0063c7fb0bb.gradio.live\n",
            "\n",
            "This share link expires in 72 hours. For free permanent hosting and GPU upgrades, run `gradio deploy` from the terminal in the working directory to deploy to Hugging Face Spaces (https://huggingface.co/spaces)\n"
          ]
        },
        {
          "output_type": "display_data",
          "data": {
            "text/plain": [
              "<IPython.core.display.HTML object>"
            ],
            "text/html": [
              "<div><iframe src=\"https://2cb388f0063c7fb0bb.gradio.live\" width=\"100%\" height=\"500\" allow=\"autoplay; camera; microphone; clipboard-read; clipboard-write;\" frameborder=\"0\" allowfullscreen></iframe></div>"
            ]
          },
          "metadata": {}
        },
        {
          "output_type": "execute_result",
          "data": {
            "text/plain": []
          },
          "metadata": {},
          "execution_count": 5
        }
      ],
      "source": [
        "import numpy as np\n",
        "import matplotlib.pyplot as plt\n",
        "from minisom import MiniSom\n",
        "import gradio as gr\n",
        "\n",
        "def train_som(grid_size, n_samples):\n",
        "    # Generate random dataset (features between 0 and 1)\n",
        "    X = np.random.rand(n_samples, 3)  # 3D feature space\n",
        "\n",
        "    # Initialize and train SOM\n",
        "    som = MiniSom(grid_size, grid_size, 3, sigma=0.5, learning_rate=0.5)\n",
        "    som.random_weights_init(X)\n",
        "    som.train_random(X, 100)  # Train for 100 iterations\n",
        "\n",
        "    # Create SOM grid visualization\n",
        "    plt.figure(figsize=(5, 5))\n",
        "    for i, x in enumerate(X):\n",
        "        w = som.winner(x)\n",
        "        plt.scatter(w[0], w[1], color=x, edgecolor='k', s=100)\n",
        "    plt.title(\"Self-Organizing Map (SOM)\")\n",
        "    plt.grid()\n",
        "\n",
        "    # Save and return image\n",
        "    plt.savefig(\"som_result.png\")\n",
        "    plt.close()\n",
        "    return \"som_result.png\"\n",
        "\n",
        "# Gradio Interface\n",
        "demo = gr.Interface(\n",
        "    fn=train_som,\n",
        "    inputs=[gr.Slider(5, 20, step=1, label=\"Grid Size\"),\n",
        "            gr.Slider(50, 500, step=10, label=\"Number of Samples\")],\n",
        "    outputs=gr.Image(type=\"filepath\"),\n",
        "    title=\"Self-Organizing Map (SOM) for Clustering\",\n",
        "    description=\"Choose the SOM grid size and number of samples to visualize clustering.\",\n",
        ")\n",
        "\n",
        "demo.launch()"
      ]
    }
  ]
}