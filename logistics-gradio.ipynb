{
  "nbformat": 4,
  "nbformat_minor": 0,
  "metadata": {
    "colab": {
      "provenance": [],
      "authorship_tag": "ABX9TyNcn+FoAHefNuRoXHSkzdbv",
      "include_colab_link": true
    },
    "kernelspec": {
      "name": "python3",
      "display_name": "Python 3"
    },
    "language_info": {
      "name": "python"
    }
  },
  "cells": [
    {
      "cell_type": "markdown",
      "metadata": {
        "id": "view-in-github",
        "colab_type": "text"
      },
      "source": [
        "<a href=\"https://colab.research.google.com/github/deepan-DA21/sample/blob/main/logistics-gradio.ipynb\" target=\"_parent\"><img src=\"https://colab.research.google.com/assets/colab-badge.svg\" alt=\"Open In Colab\"/></a>"
      ]
    },
    {
      "cell_type": "code",
      "execution_count": 6,
      "metadata": {
        "colab": {
          "base_uri": "https://localhost:8080/",
          "height": 653
        },
        "id": "BBLD4Qno-yMI",
        "outputId": "dbb4a927-40f9-4614-e525-438626f4962d"
      },
      "outputs": [
        {
          "output_type": "stream",
          "name": "stdout",
          "text": [
            "Running Gradio in a Colab notebook requires sharing enabled. Automatically setting `share=True` (you can turn this off by setting `share=False` in `launch()` explicitly).\n",
            "\n",
            "Colab notebook detected. To show errors in colab notebook, set debug=True in launch()\n",
            "* Running on public URL: https://af19262ea9493b2708.gradio.live\n",
            "\n",
            "This share link expires in 72 hours. For free permanent hosting and GPU upgrades, run `gradio deploy` from the terminal in the working directory to deploy to Hugging Face Spaces (https://huggingface.co/spaces)\n"
          ]
        },
        {
          "output_type": "display_data",
          "data": {
            "text/plain": [
              "<IPython.core.display.HTML object>"
            ],
            "text/html": [
              "<div><iframe src=\"https://af19262ea9493b2708.gradio.live\" width=\"100%\" height=\"500\" allow=\"autoplay; camera; microphone; clipboard-read; clipboard-write;\" frameborder=\"0\" allowfullscreen></iframe></div>"
            ]
          },
          "metadata": {}
        },
        {
          "output_type": "execute_result",
          "data": {
            "text/plain": []
          },
          "metadata": {},
          "execution_count": 6
        }
      ],
      "source": [
        "import gradio as gr\n",
        "import numpy as np\n",
        "import random\n",
        "\n",
        "# Function to generate a random distance matrix\n",
        "def generate_distance_matrix(n_cities):\n",
        "    matrix = np.random.randint(10, 100, size=(n_cities, n_cities))\n",
        "    np.fill_diagonal(matrix, 0)  # No distance to self\n",
        "    return matrix\n",
        "\n",
        "# Simple genetic algorithm for the TSP problem\n",
        "def create_individual(n_cities):\n",
        "    return random.sample(range(n_cities), n_cities)\n",
        "\n",
        "def fitness(route, distance_matrix):\n",
        "    return sum(distance_matrix[route[i], route[i+1]] for i in range(len(route) - 1)) + distance_matrix[route[-1], route[0]]  # Return to the start\n",
        "\n",
        "def mutate(route):\n",
        "    i, j = random.sample(range(len(route)), 2)\n",
        "    route[i], route[j] = route[j], route[i]\n",
        "    return route\n",
        "\n",
        "def crossover(parent1, parent2):\n",
        "    start, end = sorted(random.sample(range(len(parent1)), 2))\n",
        "    child = [-1] * len(parent1)\n",
        "    child[start:end] = parent1[start:end]\n",
        "\n",
        "    current = end\n",
        "    for i in range(len(parent2)):\n",
        "        if parent2[i] not in child:\n",
        "            if current == len(parent1):\n",
        "                current = 0\n",
        "            child[current] = parent2[i]\n",
        "            current += 1\n",
        "    return child\n",
        "\n",
        "def genetic_algorithm(pop_size, generations, mutation_rate, distance_matrix):\n",
        "    n_cities = len(distance_matrix)\n",
        "    population = [create_individual(n_cities) for _ in range(pop_size)]\n",
        "\n",
        "    for generation in range(generations):\n",
        "        population.sort(key=lambda route: fitness(route, distance_matrix))\n",
        "        new_population = population[:2]  # Keep the best two individuals\n",
        "\n",
        "        while len(new_population) < pop_size:\n",
        "            parent1, parent2 = random.sample(population[:10], 2)  # Select top 10 individuals\n",
        "            child = crossover(parent1, parent2)\n",
        "            if random.random() < mutation_rate:\n",
        "                child = mutate(child)\n",
        "            new_population.append(child)\n",
        "\n",
        "        population = new_population\n",
        "\n",
        "    best_route = population[0]\n",
        "    best_distance = fitness(best_route, distance_matrix)\n",
        "    return best_route, best_distance\n",
        "\n",
        "# Function to be used in the Gradio interface\n",
        "def tsp_genetic_algorithm(n_cities, pop_size, generations, mutation_rate):\n",
        "    distance_matrix = generate_distance_matrix(n_cities)\n",
        "\n",
        "    best_route, best_distance = genetic_algorithm(pop_size, generations, mutation_rate, distance_matrix)\n",
        "\n",
        "    # Convert best route to a readable format\n",
        "    route_str = \" -> \".join(str(city) for city in best_route) + f\" -> {best_route[0]}\"  # Return to the start city\n",
        "    return route_str, best_distance\n",
        "\n",
        "# Gradio Interface\n",
        "iface = gr.Interface(\n",
        "    fn=tsp_genetic_algorithm,\n",
        "    inputs=[\n",
        "        gr.Slider(minimum=3, maximum=15, step=1, value=5, label=\"Number of Cities\"),  # Change 'default' to 'value'\n",
        "        gr.Slider(minimum=10, maximum=100, step=1, value=20, label=\"Population Size\"),  # Change 'default' to 'value'\n",
        "        gr.Slider(minimum=10, maximum=500, step=1, value=100, label=\"Generations\"),  # Change 'default' to 'value'\n",
        "        gr.Slider(minimum=0.01, maximum=1, step=0.01, value=0.1, label=\"Mutation Rate\")  # Change 'default' to 'value'\n",
        "    ],\n",
        "    outputs=[\n",
        "        gr.Textbox(label=\"Best Route\"),\n",
        "        gr.Textbox(label=\"Best Distance (Cost)\")\n",
        "    ],\n",
        "    live=True,\n",
        "    title=\"Genetic Algorithm for Traveling Salesman Problem (TSP)\",\n",
        "    description=\"Use the sliders to select the number of cities, population size, generations, and mutation rate. The genetic algorithm will compute the best route and its total distance.\"\n",
        ")\n",
        "\n",
        "iface.launch()\n"
      ]
    }
  ]
}