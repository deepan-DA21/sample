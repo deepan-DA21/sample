{
  "nbformat": 4,
  "nbformat_minor": 0,
  "metadata": {
    "colab": {
      "provenance": [],
      "authorship_tag": "ABX9TyMe24AmLKCSHySIafFKIl90",
      "include_colab_link": true
    },
    "kernelspec": {
      "name": "python3",
      "display_name": "Python 3"
    },
    "language_info": {
      "name": "python"
    }
  },
  "cells": [
    {
      "cell_type": "markdown",
      "metadata": {
        "id": "view-in-github",
        "colab_type": "text"
      },
      "source": [
        "<a href=\"https://colab.research.google.com/github/deepan-DA21/sample/blob/main/chatbot.ipynb\" target=\"_parent\"><img src=\"https://colab.research.google.com/assets/colab-badge.svg\" alt=\"Open In Colab\"/></a>"
      ]
    },
    {
      "cell_type": "code",
      "execution_count": 6,
      "metadata": {
        "colab": {
          "base_uri": "https://localhost:8080/",
          "height": 653
        },
        "id": "I8iq69Vy5gHB",
        "outputId": "55a279c5-8bce-4c81-fd87-b360b5b4ba81"
      },
      "outputs": [
        {
          "output_type": "stream",
          "name": "stdout",
          "text": [
            "Running Gradio in a Colab notebook requires sharing enabled. Automatically setting `share=True` (you can turn this off by setting `share=False` in `launch()` explicitly).\n",
            "\n",
            "Colab notebook detected. To show errors in colab notebook, set debug=True in launch()\n",
            "* Running on public URL: https://3505d16eb5af6bc432.gradio.live\n",
            "\n",
            "This share link expires in 72 hours. For free permanent hosting and GPU upgrades, run `gradio deploy` from the terminal in the working directory to deploy to Hugging Face Spaces (https://huggingface.co/spaces)\n"
          ]
        },
        {
          "output_type": "display_data",
          "data": {
            "text/plain": [
              "<IPython.core.display.HTML object>"
            ],
            "text/html": [
              "<div><iframe src=\"https://3505d16eb5af6bc432.gradio.live\" width=\"100%\" height=\"500\" allow=\"autoplay; camera; microphone; clipboard-read; clipboard-write;\" frameborder=\"0\" allowfullscreen></iframe></div>"
            ]
          },
          "metadata": {}
        },
        {
          "output_type": "execute_result",
          "data": {
            "text/plain": []
          },
          "metadata": {},
          "execution_count": 6
        }
      ],
      "source": [
        "import gradio as gr\n",
        "\n",
        "def chatbot_response(user_input):\n",
        "    responses = {\n",
        "        \"hello\": \"Hi there! How can I help you?\",\n",
        "        \"how are you\": \"I'm just a bot, but I'm doing great! How about you?\",\n",
        "        \"bye\": \"Goodbye! Have a great day!\",\n",
        "        \"default\": \"I'm not sure how to respond to that. Can you try something else?\"\n",
        "    }\n",
        "\n",
        "    user_input = user_input.lower()\n",
        "    return responses.get(user_input, responses[\"default\"])\n",
        "\n",
        "# Gradio Interface\n",
        "demo = gr.Interface(\n",
        "    fn=chatbot_response,\n",
        "    inputs=gr.Textbox(placeholder=\"Type a message...\"),\n",
        "    outputs=gr.Textbox(),\n",
        "    title=\"Simple Chatbot\",\n",
        "    description=\"A basic chatbot using Gradio. Try typing 'hello', 'how are you', or 'bye'.\"\n",
        ")\n",
        "\n",
        "demo.launch()"
      ]
    }
  ]
}