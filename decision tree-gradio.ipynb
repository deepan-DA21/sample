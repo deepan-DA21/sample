{
  "nbformat": 4,
  "nbformat_minor": 0,
  "metadata": {
    "colab": {
      "provenance": [],
      "authorship_tag": "ABX9TyPGt0VZR5juL9znCS3XT/+3",
      "include_colab_link": true
    },
    "kernelspec": {
      "name": "python3",
      "display_name": "Python 3"
    },
    "language_info": {
      "name": "python"
    }
  },
  "cells": [
    {
      "cell_type": "markdown",
      "metadata": {
        "id": "view-in-github",
        "colab_type": "text"
      },
      "source": [
        "<a href=\"https://colab.research.google.com/github/deepan-DA21/sample/blob/main/decision%20tree-gradio.ipynb\" target=\"_parent\"><img src=\"https://colab.research.google.com/assets/colab-badge.svg\" alt=\"Open In Colab\"/></a>"
      ]
    },
    {
      "cell_type": "code",
      "execution_count": 7,
      "metadata": {
        "colab": {
          "base_uri": "https://localhost:8080/",
          "height": 671
        },
        "id": "h7wD3YYZBxAc",
        "outputId": "90f2f3c3-8ec7-404a-c106-4e8bd963e35c"
      },
      "outputs": [
        {
          "output_type": "stream",
          "name": "stdout",
          "text": [
            "Model Accuracy: 100.00%\n",
            "Running Gradio in a Colab notebook requires sharing enabled. Automatically setting `share=True` (you can turn this off by setting `share=False` in `launch()` explicitly).\n",
            "\n",
            "Colab notebook detected. To show errors in colab notebook, set debug=True in launch()\n",
            "* Running on public URL: https://c64778ed62de787725.gradio.live\n",
            "\n",
            "This share link expires in 72 hours. For free permanent hosting and GPU upgrades, run `gradio deploy` from the terminal in the working directory to deploy to Hugging Face Spaces (https://huggingface.co/spaces)\n"
          ]
        },
        {
          "output_type": "display_data",
          "data": {
            "text/plain": [
              "<IPython.core.display.HTML object>"
            ],
            "text/html": [
              "<div><iframe src=\"https://c64778ed62de787725.gradio.live\" width=\"100%\" height=\"500\" allow=\"autoplay; camera; microphone; clipboard-read; clipboard-write;\" frameborder=\"0\" allowfullscreen></iframe></div>"
            ]
          },
          "metadata": {}
        },
        {
          "output_type": "execute_result",
          "data": {
            "text/plain": []
          },
          "metadata": {},
          "execution_count": 7
        }
      ],
      "source": [
        "import gradio as gr\n",
        "from sklearn.datasets import load_iris\n",
        "from sklearn.model_selection import train_test_split\n",
        "from sklearn.tree import DecisionTreeClassifier\n",
        "from sklearn import metrics\n",
        "\n",
        "# Load the Iris dataset\n",
        "iris = load_iris()\n",
        "X = iris.data\n",
        "y = iris.target\n",
        "\n",
        "# Split the dataset into training and testing sets\n",
        "X_train, X_test, y_train, y_test = train_test_split(X, y, test_size=0.3, random_state=42)\n",
        "\n",
        "# Train the Decision Tree Classifier\n",
        "clf = DecisionTreeClassifier()\n",
        "clf.fit(X_train, y_train)\n",
        "\n",
        "# Evaluate the model\n",
        "y_pred = clf.predict(X_test)\n",
        "accuracy = metrics.accuracy_score(y_test, y_pred)\n",
        "print(f\"Model Accuracy: {accuracy * 100:.2f}%\")\n",
        "\n",
        "# Define a function that will be used by Gradio for predictions\n",
        "def predict_species(sepal_length, sepal_width, petal_length, petal_width):\n",
        "    # Create a feature array from the input values\n",
        "    features = [[sepal_length, sepal_width, petal_length, petal_width]]\n",
        "\n",
        "    # Make a prediction using the trained model\n",
        "    prediction = clf.predict(features)\n",
        "\n",
        "    # Map the prediction to the species name\n",
        "    species = iris.target_names[prediction][0]\n",
        "\n",
        "    return species\n",
        "\n",
        "# Create the Gradio interface\n",
        "interface = gr.Interface(\n",
        "    fn=predict_species,  # Function to predict species\n",
        "    inputs=[\n",
        "        gr.Slider(4.0, 8.0, label=\"Sepal Length (cm)\", value=5.0),\n",
        "        gr.Slider(2.0, 4.5, label=\"Sepal Width (cm)\", value=3.0),\n",
        "        gr.Slider(1.0, 7.0, label=\"Petal Length (cm)\", value=4.0),\n",
        "        gr.Slider(0.1, 2.5, label=\"Petal Width (cm)\", value=1.0),\n",
        "    ],  # Inputs to the model (sliders for each feature)\n",
        "    outputs=gr.Textbox(label=\"Predicted Species\"),  # Output of the prediction\n",
        "    title=\"Iris Flower Species Prediction\",  # Title of the app\n",
        "    description=\"Enter the flower's sepal and petal dimensions to predict its species.\",\n",
        ")\n",
        "\n",
        "# Launch the Gradio interface\n",
        "interface.launch()\n"
      ]
    }
  ]
}